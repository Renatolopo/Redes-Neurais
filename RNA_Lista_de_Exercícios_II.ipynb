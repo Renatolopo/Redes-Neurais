{
  "nbformat": 4,
  "nbformat_minor": 0,
  "metadata": {
    "colab": {
      "name": "RNA - Lista de Exercícios II",
      "provenance": [],
      "include_colab_link": true
    },
    "kernelspec": {
      "name": "python3",
      "display_name": "Python 3"
    },
    "language_info": {
      "name": "python"
    }
  },
  "cells": [
    {
      "cell_type": "markdown",
      "metadata": {
        "id": "view-in-github",
        "colab_type": "text"
      },
      "source": [
        "<a href=\"https://colab.research.google.com/github/Renatolopo/Redes-Neurais/blob/main/RNA_Lista_de_Exerc%C3%ADcios_II.ipynb\" target=\"_parent\"><img src=\"https://colab.research.google.com/assets/colab-badge.svg\" alt=\"Open In Colab\"/></a>"
      ]
    },
    {
      "cell_type": "markdown",
      "metadata": {
        "id": "lXFUOiFh3B9g"
      },
      "source": [
        "# RNA - Lista de Exercícios II\n",
        "\n",
        "## Instruções\n",
        "\n",
        "As primeiras células desse notebook contém os códigos de importação do data MNIST, que contém "
      ]
    },
    {
      "cell_type": "code",
      "metadata": {
        "colab": {
          "base_uri": "https://localhost:8080/"
        },
        "id": "ofJChyq3nSWX",
        "outputId": "93d50dae-182e-4557-a7a4-1c9c0ec4f03d"
      },
      "source": [
        "import numpy as np\n",
        "import pandas as pd\n",
        "import matplotlib as plt\n",
        "from mpl_toolkits.mplot3d import axes3d\n",
        "import matplotlib.pyplot as plt\n",
        "from sklearn.metrics import accuracy_score\n",
        "%pylab inline"
      ],
      "execution_count": null,
      "outputs": [
        {
          "output_type": "stream",
          "name": "stdout",
          "text": [
            "Populating the interactive namespace from numpy and matplotlib\n"
          ]
        }
      ]
    },
    {
      "cell_type": "markdown",
      "metadata": {
        "id": "EmpOVU7k3gIZ"
      },
      "source": [
        "## Dataset MNIST\n",
        "\n",
        "Principais campos\n",
        "* **digits.images**: Dados da imagem em pixels (para visualização)\n",
        "* **digits.data**: Dados da imagem em linha (vetor)\n",
        "* **digits.target**: Classse (de 0 à 9)"
      ]
    },
    {
      "cell_type": "code",
      "metadata": {
        "colab": {
          "base_uri": "https://localhost:8080/",
          "height": 369
        },
        "id": "8lZpOwK7mgmk",
        "outputId": "df568a07-66b8-4b64-908b-0cfbcf0c6acf"
      },
      "source": [
        "from sklearn.datasets import load_digits\n",
        "digits = load_digits()\n",
        "\n",
        "_, ax = plt.subplots(5, 2, figsize=(10,5))\n",
        "\n",
        "plt.gray() \n",
        "for i in range(0,5):\n",
        "  for j in range(0,2):\n",
        "    ax[i][j].matshow(digits.images[j  + i*2 ]) \n",
        "plt.tight_layout()"
      ],
      "execution_count": null,
      "outputs": [
        {
          "output_type": "display_data",
          "data": {
            "image/png": "[encoded data removed]",
            "text/plain": [
              "<Figure size 720x360 with 10 Axes>"
            ]
          },
          "metadata": {
            "needs_background": "light"
          }
        }
      ]
    },
    {
      "cell_type": "markdown",
      "metadata": {
        "id": "ZfAdTx4LRiWG"
      },
      "source": [
        "## Funções de Ativação"
      ]
    },
    {
      "cell_type": "code",
      "metadata": {
        "id": "ZzMOx6v1r0GU"
      },
      "source": [
        "def sigmoide(x, derivada = False):\n",
        "  if not derivada:\n",
        "    return 1./(1. + np.exp(-x))\n",
        "  else:\n",
        "    y = sigmoide(x)\n",
        "    return y*(1-y)\n",
        "\n",
        "def relu(x, derivada = False):\n",
        "  if not derivada:\n",
        "    return np.maximum(x, 0)\n",
        "  else:\n",
        "    return np.where(np.maximum(x, 0) > 0, 1, 0) "
      ],
      "execution_count": null,
      "outputs": []
    },
    {
      "cell_type": "markdown",
      "metadata": {
        "id": "dc2wBGD3RqNJ"
      },
      "source": [
        "## Função de Custo"
      ]
    },
    {
      "cell_type": "code",
      "metadata": {
        "id": "bkvBa-VYRq4w"
      },
      "source": [
        "def mse(y, yl, derivada = False):\n",
        "  if not derivada:\n",
        "    return ((y-yl)**2)/2\n",
        "  else:\n",
        "    return y-yl"
      ],
      "execution_count": null,
      "outputs": []
    },
    {
      "cell_type": "markdown",
      "metadata": {
        "id": "OfxQXVqKQh_m"
      },
      "source": [
        "## Rede de Camada Unica\n"
      ]
    },
    {
      "cell_type": "code",
      "metadata": {
        "id": "nVDpElLFQmVD"
      },
      "source": [
        "def rede_camada_unica(X, Y, **kwargs):\n",
        "  taxa_aprendizado = kwargs.get(\"taxa_aprendizado\",0.02)\n",
        "  numero_epocas = kwargs.get(\"numero_epocas\", 100)\n",
        "  batch = kwargs.get(\"batch\", 100)\n",
        "  funcao_custo = kwargs.get(\"funcao_custo\", mse)\n",
        "  inicializacao_media = kwargs.get(\"inicializacao_media\", 0)\n",
        "  inicializacao_desvio = kwargs.get(\"inicializacao_desvio\", 0.5)\n",
        "  ativacao_camada = kwargs.get(\"ativacao_camada\", sigmoide)\n",
        "  num_in = X.shape[1]\n",
        "  num_neuron = kwargs.get(\"num_neuron\", num_in)\n",
        "  num_out = Y.shape[1]\n",
        "  num_inst = X.shape[0] \n",
        "\n",
        "  W = np.random.normal(inicializacao_media, inicializacao_desvio, (num_out, num_neuron))\n",
        "  B = np.random.normal(inicializacao_media, inicializacao_desvio,(num_out, 1))\n",
        "\n",
        "  log_erros = []\n",
        "\n",
        "  for epocas in np.arange(numero_epocas):\n",
        "    for z in np.arange(batch):\n",
        "      i = np.random.randint(0, num_inst)\n",
        "\n",
        "      # camada 1\n",
        "      h1 = np.zeros(num_neuron)\n",
        "      saidas = np.zeros(num_neuron)\n",
        "\n",
        "      for neuronio in range(num_out):\n",
        "        h = W[neuronio].dot(X[i, :]) + B[neuronio]\n",
        "        saidas[neuronio] = ativacao_camada(h)\n",
        "        h1[neuronio] = h\n",
        "      \n",
        "      # camada de saida\n",
        "      erros = np.zeros(num_out)\n",
        "      delta = np.zeros(num_out)\n",
        "\n",
        "      for neuronio in range(num_out):\n",
        "        erros[neuronio] = funcao_custo(Y[i, neuronio], saidas[neuronio])\n",
        "        delta[neuronio] = funcao_custo(Y[i, neuronio], saidas[neuronio], derivada=True) * ativacao_camada(h1[neuronio], derivada=True)\n",
        "\n",
        "        W[neuronio] += taxa_aprendizado * -delta[neuronio] * -X[i,:]\n",
        "        B[neuronio] += taxa_aprendizado * -delta[neuronio]\n",
        "\n",
        "      log_erros.append(np.mean(erros))\n",
        "  return W, B, log_erros\n",
        "\n"
      ],
      "execution_count": null,
      "outputs": []
    },
    {
      "cell_type": "code",
      "metadata": {
        "id": "yabYsbdqdR3z"
      },
      "source": [
        "def classificar_camada_unica(x, W, B, **kwargs):\n",
        "  ativacao_camada = kwargs.get(\"ativacao_camada\", sigmoide)\n",
        "  num_in = len(W)\n",
        "  num_out = len(W)\n",
        "  num_inst = x.shape[0]\n",
        "  num_neuron = kwargs.get(\"num_neuron\", num_in)\n",
        "  ret = []\n",
        "  for i in range(num_inst):\n",
        "\n",
        "    saidas = np.zeros(num_neuron)\n",
        "    for neuronio in range(num_in):\n",
        "      saidas[neuronio] = ativacao_camada(W[neuronio].dot(x[i, :]) + B[neuronio])\n",
        "\n",
        "    ret.append(np.argmax(np.where(saidas == max(saidas), 1, 0)))\n",
        "\n",
        "  return ret"
      ],
      "execution_count": null,
      "outputs": []
    },
    {
      "cell_type": "markdown",
      "metadata": {
        "id": "O2sHgg8xRyIu"
      },
      "source": [
        "## Rede MLP"
      ]
    },
    {
      "cell_type": "code",
      "metadata": {
        "id": "7DEdUYRiRwOJ"
      },
      "source": [
        "# Redes MLP de 2 camadas\n",
        "\n",
        "def rede_mlp(X, Y, **kwargs):\n",
        "  taxa_aprendizado = kwargs.get(\"taxa_aprendizado\", 0.02)\n",
        "  numero_epocas = kwargs.get(\"numero_epocas\", 100)\n",
        "  batch = kwargs.get(\"batch\", 100)\n",
        "  funcao_custo = kwargs.get(\"funcao_custo\", mse)\n",
        "  inicializacao_media = kwargs.get(\"inicializacao_media\", 0)\n",
        "  inicializacao_desvio = kwargs.get(\"inicializacao_desvio\", 0.5)\n",
        "  ativacao_camada1 = kwargs.get(\"ativacao_camada1\", sigmoide)\n",
        "  ativacao_camada2 = kwargs.get(\"ativacao_camada2\", sigmoide)\n",
        "  num_in = X.shape[1]\n",
        "  num_neuron = kwargs.get(\"num_neuron\", num_in)\n",
        "  num_out = Y.shape[1]\n",
        "  num_inst = X.shape[0] \n",
        "\n",
        "  W1 = np.random.normal(inicializacao_media,inicializacao_desvio,(num_neuron, num_in))\n",
        "  B1 = np.random.normal(inicializacao_media,inicializacao_desvio,(num_neuron,1))\n",
        "\n",
        "  W2 = np.random.normal(inicializacao_media,inicializacao_desvio,(num_out, num_neuron))\n",
        "  B2 = np.random.normal(inicializacao_media,inicializacao_desvio,(num_out, 1))\n",
        "\n",
        "  log_erros = []\n",
        "\n",
        "  for epocas in np.arange(numero_epocas):\n",
        "\n",
        "    for z in np.arange(batch):\n",
        "      i = np.random.randint(0,num_inst)\n",
        "\n",
        "      #################################\n",
        "      # Forward\n",
        "      #################################\n",
        "\n",
        "      # Camada 1\n",
        "      h1 = np.zeros(num_neuron)\n",
        "      saidas1 = np.zeros(num_neuron)\n",
        "\n",
        "      for neuronio in range(num_neuron):\n",
        "        h = W1[neuronio].dot(X[i,:]) + B1[neuronio]\n",
        "        saidas1[neuronio] = ativacao_camada1(h)\n",
        "        h1[neuronio] = h\n",
        "\n",
        "      # Camada 2\n",
        "      h2 = np.zeros(num_out)\n",
        "      saidas2 = np.zeros(num_out)\n",
        "\n",
        "      for neuronio in range(num_out):\n",
        "        h = W2[neuronio].dot(saidas1) + B2[neuronio]\n",
        "        saidas2[neuronio] = ativacao_camada2(h)\n",
        "        h2[neuronio] = h\n",
        "\n",
        "      #################################\n",
        "      # Backward\n",
        "      #################################\n",
        "\n",
        "      # Camada de Saída\n",
        "\n",
        "      erros = np.zeros(num_out)\n",
        "\n",
        "      delta2 = np.zeros(num_out)\n",
        "\n",
        "      for neuronio in range(num_out):\n",
        "        erros[neuronio] = funcao_custo(Y[i,neuronio], saidas2[neuronio])\n",
        "        \n",
        "        delta2[neuronio] = funcao_custo(Y[i,neuronio], saidas2[neuronio], derivada=True) * ativacao_camada2(h2[neuronio], derivada=True)\n",
        "        \n",
        "        W2[neuronio] += taxa_aprendizado * -delta2[neuronio] * -saidas1\n",
        "        B2[neuronio] += taxa_aprendizado * -delta2[neuronio]\n",
        "\n",
        "      # Camada de Entrada\n",
        "      \n",
        "      for neuronio in range(num_neuron):\n",
        "\n",
        "        delta1 = ativacao_camada1(h1[neuronio], derivada=True) * np.sum([delta2[j] * W2[j][neuronio] for j in range(num_out)])\n",
        "        \n",
        "        W1[neuronio] += taxa_aprendizado * -delta1 * -X[i,:]\n",
        "        B1[neuronio] += taxa_aprendizado * -delta1\n",
        "\n",
        "      log_erros.append(np.mean(erros))\n",
        "  return W1, B1, W2, B2, log_erros"
      ],
      "execution_count": null,
      "outputs": []
    },
    {
      "cell_type": "code",
      "metadata": {
        "id": "x0mIZ4_sR7Wz"
      },
      "source": [
        "def classificar_mlp(x, W1, B1, W2, B2, **kwargs):\n",
        "  ativacao_camada1 = kwargs.get(\"ativacao_camada1\", sigmoide)\n",
        "  ativacao_camada2 = kwargs.get(\"ativacao_camada2\", sigmoide)\n",
        "  num_in = len(W1)\n",
        "  num_out = len(W2)\n",
        "  num_inst = x.shape[0]\n",
        "  num_neuron = kwargs.get(\"num_neuron\", num_in)\n",
        "  ret = []\n",
        "  for i in range(num_inst):\n",
        "    \n",
        "    saidas1 = np.zeros(num_neuron)\n",
        "    for neuronio in range(num_in):\n",
        "      saidas1[neuronio] = ativacao_camada1(W1[neuronio].dot(x[i,:]) + B1[neuronio])\n",
        "\n",
        "    saidas2 = np.zeros(num_out)\n",
        "    for neuronio in range(num_out):\n",
        "      saidas2[neuronio] = ativacao_camada2(W2[neuronio].dot(saidas1) + B2[neuronio])\n",
        "\n",
        "    ret.append(np.argmax(np.where(saidas2 == max(saidas2), 1, 0)))\n",
        "  return ret\n"
      ],
      "execution_count": null,
      "outputs": []
    },
    {
      "cell_type": "markdown",
      "metadata": {
        "id": "s9T86_n-f6mh"
      },
      "source": [
        "# Classificação\n"
      ]
    },
    {
      "cell_type": "code",
      "metadata": {
        "id": "Yh6MswmfnJLJ"
      },
      "source": [
        "from sklearn.model_selection import train_test_split\n",
        "\n",
        "X = digits.data\n",
        "\n",
        "Y = np.zeros((digits.target.shape[0], 10))\n",
        "for i in range(digits.target.shape[0]):\n",
        "  Y[i][digits.target[i]] = 1\n",
        "\n",
        "X_treino, X_teste, y_treino, y_teste = train_test_split(X, Y, test_size=0.3, random_state=0)"
      ],
      "execution_count": null,
      "outputs": []
    },
    {
      "cell_type": "markdown",
      "metadata": {
        "id": "BVpZBkxKftvJ"
      },
      "source": [
        "## Clasificação usando uma Rede de camada  Unica"
      ]
    },
    {
      "cell_type": "code",
      "metadata": {
        "id": "nc7Mx819f2ND",
        "colab": {
          "base_uri": "https://localhost:8080/",
          "height": 283
        },
        "outputId": "88e398b4-a853-4872-f4dc-4d0dca94d8c8"
      },
      "source": [
        "W, B, erros = rede_camada_unica(X_treino, y_treino,  taxa_aprendizado = 0.08, numero_epocas=2000, batch=200)\n",
        "plot(erros)"
      ],
      "execution_count": null,
      "outputs": [
        {
          "output_type": "execute_result",
          "data": {
            "text/plain": [
              "[<matplotlib.lines.Line2D at 0x7f5072effc90>]"
            ]
          },
          "metadata": {},
          "execution_count": 18
        },
        {
          "output_type": "display_data",
          "data": {
            "image/png": "[encoded data removed]",
            "text/plain": [
              "<Figure size 432x288 with 1 Axes>"
            ]
          },
          "metadata": {
            "needs_background": "light"
          }
        }
      ]
    },
    {
      "cell_type": "code",
      "metadata": {
        "colab": {
          "base_uri": "https://localhost:8080/"
        },
        "id": "fpkCQg7zLO-7",
        "outputId": "3f395e33-b3e5-4218-c93d-8497c0edf21a"
      },
      "source": [
        "resultado = classificar_camada_unica(X_teste, W, B)\n",
        "accuracy_score(y_teste.argmax(axis=1), resultado)"
      ],
      "execution_count": null,
      "outputs": [
        {
          "output_type": "execute_result",
          "data": {
            "text/plain": [
              "0.34629629629629627"
            ]
          },
          "metadata": {},
          "execution_count": 19
        }
      ]
    },
    {
      "cell_type": "code",
      "metadata": {
        "colab": {
          "base_uri": "https://localhost:8080/"
        },
        "id": "69fhFQE6Lck9",
        "outputId": "51e38ef3-69e0-4170-b368-b9fe891a1dd0"
      },
      "source": [
        "W, B, erros = rede_camada_unica(X_treino, y_treino,  taxa_aprendizado = 0.01, numero_epocas=2000, batch=200)\n",
        "resultado = classificar_camada_unica(X_teste, W, B)\n",
        "accuracy_score(y_teste.argmax(axis=1), resultado)"
      ],
      "execution_count": null,
      "outputs": [
        {
          "output_type": "execute_result",
          "data": {
            "text/plain": [
              "0.40370370370370373"
            ]
          },
          "metadata": {},
          "execution_count": 51
        }
      ]
    },
    {
      "cell_type": "code",
      "metadata": {
        "colab": {
          "base_uri": "https://localhost:8080/"
        },
        "id": "2BJg-_uwO6_o",
        "outputId": "9a52b9d9-f96c-44c1-9634-b46c935a4896"
      },
      "source": [
        "W, B, erros = rede_camada_unica(X_treino, y_treino,  taxa_aprendizado = 0.015, numero_epocas=3000, batch=200)\n",
        "resultado = classificar_camada_unica(X_teste, W, B)\n",
        "accuracy_score(y_teste.argmax(axis=1), resultado)"
      ],
      "execution_count": null,
      "outputs": [
        {
          "output_type": "execute_result",
          "data": {
            "text/plain": [
              "0.3074074074074074"
            ]
          },
          "metadata": {},
          "execution_count": 52
        }
      ]
    },
    {
      "cell_type": "code",
      "metadata": {
        "colab": {
          "base_uri": "https://localhost:8080/"
        },
        "id": "Hzbgi9b0PzGs",
        "outputId": "fc40a188-af7f-4845-9e93-87b3a1f49910"
      },
      "source": [
        "W, B, erros = rede_camada_unica(X_treino, y_treino,  taxa_aprendizado = 0.07, numero_epocas=3000, batch=200)\n",
        "resultado = classificar_camada_unica(X_teste, W, B)\n",
        "accuracy_score(y_teste.argmax(axis=1), resultado)"
      ],
      "execution_count": null,
      "outputs": [
        {
          "output_type": "execute_result",
          "data": {
            "text/plain": [
              "0.3648148148148148"
            ]
          },
          "metadata": {},
          "execution_count": 20
        }
      ]
    },
    {
      "cell_type": "markdown",
      "metadata": {
        "id": "zosXhT9wSqLL"
      },
      "source": [
        "## Classificação usando Redes MLP "
      ]
    },
    {
      "cell_type": "code",
      "metadata": {
        "id": "7-RwUp_KKXMH"
      },
      "source": [
        "#treinamento\n",
        "W1, B1, W2, B2, log_erros = rede_mlp(X_treino, y_treino, taxa_aprendizado = 0.045, numero_epocas=250)"
      ],
      "execution_count": null,
      "outputs": []
    },
    {
      "cell_type": "code",
      "metadata": {
        "colab": {
          "base_uri": "https://localhost:8080/",
          "height": 282
        },
        "id": "WIt5yqGJKuD3",
        "outputId": "f529a3d9-c6c9-4c75-ca96-afbce42ab594"
      },
      "source": [
        "# Visualização dos erros\n",
        "plt.plot(log_erros)"
      ],
      "execution_count": null,
      "outputs": [
        {
          "output_type": "execute_result",
          "data": {
            "text/plain": [
              "[<matplotlib.lines.Line2D at 0x7fc58184b610>]"
            ]
          },
          "metadata": {},
          "execution_count": 53
        },
        {
          "output_type": "display_data",
          "data": {
            "image/png": "[encoded data removed]",
            "text/plain": [
              "<Figure size 432x288 with 1 Axes>"
            ]
          },
          "metadata": {
            "needs_background": "light"
          }
        }
      ]
    },
    {
      "cell_type": "code",
      "metadata": {
        "id": "kU8AmRndLiAn"
      },
      "source": [
        "resultado = classificar_mlp(X_teste, W1, B1, W2, B2)"
      ],
      "execution_count": null,
      "outputs": []
    },
    {
      "cell_type": "code",
      "metadata": {
        "colab": {
          "base_uri": "https://localhost:8080/"
        },
        "id": "Z97ljsHBPePP",
        "outputId": "f78642c9-9b6c-4538-fd4d-9e4649ee1283"
      },
      "source": [
        "from sklearn.metrics import confusion_matrix\n",
        "\n",
        "confusion_matrix(y_teste.argmax(axis=1), resultado)"
      ],
      "execution_count": null,
      "outputs": [
        {
          "output_type": "execute_result",
          "data": {
            "text/plain": [
              "array([[45,  0,  0,  0,  0,  0,  0,  0,  0,  0],\n",
              "       [ 0, 49,  0,  0,  0,  1,  1,  0,  0,  1],\n",
              "       [ 0,  1, 50,  0,  0,  0,  0,  1,  1,  0],\n",
              "       [ 0,  0,  0, 49,  0,  1,  0,  1,  2,  1],\n",
              "       [ 0,  0,  0,  0, 46,  0,  0,  2,  0,  0],\n",
              "       [ 0,  0,  0,  0,  0, 52,  1,  0,  1,  3],\n",
              "       [ 0,  0,  0,  0,  0,  0, 60,  0,  0,  0],\n",
              "       [ 0,  0,  0,  0,  0,  0,  0, 53,  0,  0],\n",
              "       [ 0,  1,  0,  1,  0,  0,  0,  0, 58,  1],\n",
              "       [ 0,  0,  0,  2,  0,  2,  0,  0,  1, 52]])"
            ]
          },
          "metadata": {},
          "execution_count": 10
        }
      ]
    },
    {
      "cell_type": "code",
      "metadata": {
        "colab": {
          "base_uri": "https://localhost:8080/"
        },
        "id": "-FNL_Z5RMCn_",
        "outputId": "ef190489-e642-4e07-b17e-12e2cee6cc75"
      },
      "source": [
        "# Verificando a acuracia do modelo\n",
        "\n",
        "accuracy_score(y_teste.argmax(axis=1), resultado)"
      ],
      "execution_count": null,
      "outputs": [
        {
          "output_type": "execute_result",
          "data": {
            "text/plain": [
              "0.9518518518518518"
            ]
          },
          "metadata": {},
          "execution_count": 11
        }
      ]
    },
    {
      "cell_type": "code",
      "metadata": {
        "colab": {
          "base_uri": "https://localhost:8080/"
        },
        "id": "2aVSX5-3sB3Y",
        "outputId": "6e579796-5736-4cfe-f2fd-392f5586cdf4"
      },
      "source": [
        "W1, B1, W2, B2, log_erros = rede_mlp(X_treino, y_treino, taxa_aprendizado = 0.075, numero_epocas=250)\n",
        "resultado = classificar_mlp(X_teste, W1, B1, W2, B2)\n",
        "accuracy_score(y_teste.argmax(axis=1), resultado)"
      ],
      "execution_count": null,
      "outputs": [
        {
          "output_type": "execute_result",
          "data": {
            "text/plain": [
              "0.9537037037037037"
            ]
          },
          "metadata": {},
          "execution_count": 13
        }
      ]
    },
    {
      "cell_type": "code",
      "metadata": {
        "colab": {
          "base_uri": "https://localhost:8080/"
        },
        "id": "bt4jxYFHsznU",
        "outputId": "5488d8b8-f8f9-4b3d-a53c-9c42ceac1f96"
      },
      "source": [
        "W1, B1, W2, B2, log_erros = rede_mlp(X_treino, y_treino, taxa_aprendizado = 0.1, numero_epocas=250)\n",
        "resultado = classificar_mlp(X_teste, W1, B1, W2, B2)\n",
        "accuracy_score(y_teste.argmax(axis=1), resultado)"
      ],
      "execution_count": null,
      "outputs": [
        {
          "output_type": "execute_result",
          "data": {
            "text/plain": [
              "0.9574074074074074"
            ]
          },
          "metadata": {},
          "execution_count": 15
        }
      ]
    },
    {
      "cell_type": "code",
      "metadata": {
        "colab": {
          "base_uri": "https://localhost:8080/"
        },
        "id": "XLtzJQ4DuH_p",
        "outputId": "0cea549b-c2be-4ef8-f7a7-3914cbe098f1"
      },
      "source": [
        "W1, B1, W2, B2, log_erros = rede_mlp(X_treino, y_treino, taxa_aprendizado = 0.0389, numero_epocas=300)\n",
        "resultado = classificar_mlp(X_teste, W1, B1, W2, B2)\n",
        "accuracy_score(y_teste.argmax(axis=1), resultado)"
      ],
      "execution_count": null,
      "outputs": [
        {
          "output_type": "execute_result",
          "data": {
            "text/plain": [
              "0.8722222222222222"
            ]
          },
          "metadata": {},
          "execution_count": 21
        }
      ]
    }
  ]
}