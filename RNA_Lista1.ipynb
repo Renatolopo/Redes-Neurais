{
  "nbformat": 4,
  "nbformat_minor": 0,
  "metadata": {
    "colab": {
      "name": "RNA Lista1.ipynb",
      "provenance": []
    },
    "kernelspec": {
      "name": "python3",
      "display_name": "Python 3"
    },
    "language_info": {
      "name": "python"
    }
  },
  "cells": [
    {
      "cell_type": "code",
      "metadata": {
        "id": "vwlSzw1rINsF"
      },
      "source": [
        "import numpy as np\n",
        "import matplotlib.pyplot as plt\n",
        "import pandas as pd\n",
        "from sklearn.metrics import accuracy_score"
      ],
      "execution_count": null,
      "outputs": []
    },
    {
      "cell_type": "markdown",
      "metadata": {
        "id": "mv_OpCZZ_dhN"
      },
      "source": [
        "1. Implemente o algoritmo de treinamento do Perceptron e treine-o para as Tabelas Verdade das expressões abaixo (gere os dados usando o site: https://www.calculadoraonline.com.br/tabela-verdade )\n",
        "1.a) A ∧ B ∧ C\n",
        "1.b) A ∨ B ∨ C\n",
        "1.c) A ∧ B ∧ C ∧ D\n",
        "1.d) A ∨ B ∨ C ∨ D\n",
        "1.e) A ∧ B ∨ C ∧ D"
      ]
    },
    {
      "cell_type": "code",
      "metadata": {
        "id": "0kuY4ZHnElE-"
      },
      "source": [
        "def get_xy(a, inicio=0, fim=1):\n",
        "  x = [x[:len(x) -fim] for x in a]\n",
        "  y = [x[len(x)- 1] for x in a]\n",
        "  return (x, y)"
      ],
      "execution_count": null,
      "outputs": []
    },
    {
      "cell_type": "code",
      "metadata": {
        "id": "pdW01ksHg_AB"
      },
      "source": [
        "def degrau(x):\n",
        "  return 1 if x > 0 else 0\n",
        "\n",
        "def perceptron(X, y, a, numero_de_iteracao):\n",
        "  n = len(X[0])\n",
        "  m = len(X)\n",
        "  w = np.random.randn(n) # pesos\n",
        "  wz = np.random.randn(1) # threshold\n",
        "  yt = [0] * m\n",
        "  erros = []\n",
        "\n",
        "  for iteracao in range(numero_de_iteracao):\n",
        "    erro = 0\n",
        "    for j in range(m):\n",
        "      yt[j] = degrau(sum([w[i] * X[j][i] + wz for i in range(n)])) # calcula saida\n",
        "      if y[j] != yt[j]:\n",
        "        w = [w[i] + a * y[j] * x[j][i] for i in range(n)] # update pesos\n",
        "        wz = wz + a * y[j] # update threshold\n",
        "        erro += 1\n",
        "\n",
        "    erros.append(erro)\n",
        "\n",
        "\n",
        "  return ([w, wz],erros)\n"
      ],
      "execution_count": null,
      "outputs": []
    },
    {
      "cell_type": "code",
      "metadata": {
        "colab": {
          "base_uri": "https://localhost:8080/",
          "height": 283
        },
        "id": "5Ti1yt3TCRTb",
        "outputId": "208b03e3-03e3-4630-9774-c7dba9517b8f"
      },
      "source": [
        "a = [[1, 1, 1, 1], [1, 1, 0, 0], [1, 0, 1, 0], [0, 1, 1, 0], [0, 0, 1,\t0], [0, 1, 0, 0], [1, 0, 0, 0], [0, 0, 0, 0]]\n",
        "\n",
        "x, y = get_xy(a)\n",
        "\n",
        "w, erros = perceptron(x, y, 0.07, 500)\n",
        "plt.plot(erros)"
      ],
      "execution_count": null,
      "outputs": [
        {
          "output_type": "execute_result",
          "data": {
            "text/plain": [
              "[<matplotlib.lines.Line2D at 0x7fea5e5a7d90>]"
            ]
          },
          "metadata": {},
          "execution_count": 7
        },
        {
          "output_type": "display_data",
          "data": {
            "image/png": "[encoded data removed]",
            "text/plain": [
              "<Figure size 432x288 with 1 Axes>"
            ]
          },
          "metadata": {
            "needs_background": "light"
          }
        }
      ]
    },
    {
      "cell_type": "code",
      "metadata": {
        "colab": {
          "base_uri": "https://localhost:8080/",
          "height": 283
        },
        "id": "5jyzYkwTh-R2",
        "outputId": "fec1e3ca-f9e9-479e-8ef8-ab7939464327"
      },
      "source": [
        "b = [[1, 1, 1, 1],[1, 1, 0,\t1],[1,\t0,\t1,\t1],[0,\t1,\t1,\t1],[0,\t0,\t1,\t1], [0,\t1,\t0,\t1], [1,\t0,\t0,\t1], [0,\t0,\t0,\t0]]\n",
        "\n",
        "x, y = get_xy(b)\n",
        "\n",
        "w, erros = perceptron(x, y, 0.02, 500)\n",
        "plt.plot(erros)"
      ],
      "execution_count": null,
      "outputs": [
        {
          "output_type": "execute_result",
          "data": {
            "text/plain": [
              "[<matplotlib.lines.Line2D at 0x7fea5e3eb0d0>]"
            ]
          },
          "metadata": {},
          "execution_count": 11
        },
        {
          "output_type": "display_data",
          "data": {
            "image/png": "[encoded data removed]",
            "text/plain": [
              "<Figure size 432x288 with 1 Axes>"
            ]
          },
          "metadata": {
            "needs_background": "light"
          }
        }
      ]
    },
    {
      "cell_type": "code",
      "metadata": {
        "colab": {
          "base_uri": "https://localhost:8080/",
          "height": 283
        },
        "id": "Z7PL1adMjDHC",
        "outputId": "c1c2c8e0-98c7-4399-e465-7c597974095d"
      },
      "source": [
        "c = [[1, 1, 1, 1, 1],\n",
        "[1, 1, 1, 0, 0],\n",
        "[1, 1, 0, 1, 0],\n",
        "[1, 0, 1, 1, 0],\n",
        "[0, 1, 1, 1, 0],\n",
        "[0, 0, 0, 1, 0],\n",
        "[0, 0, 1, 0, 0],\n",
        "[0, 1, 0, 0, 0],\n",
        "[1, 0, 0, 0, 0],\n",
        "[0, 0, 0, 0, 0],\n",
        "[1, 1, 0, 0, 0],\n",
        "[0, 0, 1, 1, 0],\n",
        "[1, 0, 0, 1, 0],\n",
        "[0, 1, 1, 0, 0],\n",
        "[1, 0, 1, 0, 0],\n",
        "[0, 1, 0, 1, 0]]\n",
        "\n",
        "x, y = get_xy(c)\n",
        "\n",
        "w, erros = perceptron(x, y, 0.7123, 500)\n",
        "plt.plot(erros)"
      ],
      "execution_count": null,
      "outputs": [
        {
          "output_type": "execute_result",
          "data": {
            "text/plain": [
              "[<matplotlib.lines.Line2D at 0x7fea5dfc8290>]"
            ]
          },
          "metadata": {},
          "execution_count": 21
        },
        {
          "output_type": "display_data",
          "data": {
            "image/png": "[encoded data removed]",
            "text/plain": [
              "<Figure size 432x288 with 1 Axes>"
            ]
          },
          "metadata": {
            "needs_background": "light"
          }
        }
      ]
    },
    {
      "cell_type": "code",
      "metadata": {
        "colab": {
          "base_uri": "https://localhost:8080/",
          "height": 283
        },
        "id": "aVmgOwwnjbWx",
        "outputId": "05a87b46-2963-4d78-a17b-d4a4c05dfc5e"
      },
      "source": [
        "d = [[1, 1, 1, 1, 1],\n",
        "[1, 1, 1, 0, 1],\n",
        "[1, 1, 0, 1, 1],\n",
        "[1, 0, 1, 1, 1],\n",
        "[0, 1, 1, 1, 1],\n",
        "[0, 0, 0, 1, 1],\n",
        "[0, 0, 1, 0, 1],\n",
        "[0, 1, 0, 0, 1],\n",
        "[1, 0, 0, 0, 1],\n",
        "[0, 0, 0, 0, 0],\n",
        "[1, 1, 0, 0, 1],\n",
        "[0, 0, 1, 1, 1],\n",
        "[1, 0, 0, 1, 1],\n",
        "[0, 1, 1, 0, 1],\n",
        "[1, 0, 1, 0, 1],\n",
        "[0, 1, 0, 1, 1]]\n",
        "\n",
        "x, y = get_xy(d)\n",
        "\n",
        "w, erros = perceptron(x, y, 0.07, 500)\n",
        "plt.plot(erros)"
      ],
      "execution_count": null,
      "outputs": [
        {
          "output_type": "execute_result",
          "data": {
            "text/plain": [
              "[<matplotlib.lines.Line2D at 0x7fea5dc68dd0>]"
            ]
          },
          "metadata": {},
          "execution_count": 29
        },
        {
          "output_type": "display_data",
          "data": {
            "image/png": "[encoded data removed]",
            "text/plain": [
              "<Figure size 432x288 with 1 Axes>"
            ]
          },
          "metadata": {
            "needs_background": "light"
          }
        }
      ]
    },
    {
      "cell_type": "code",
      "metadata": {
        "colab": {
          "base_uri": "https://localhost:8080/",
          "height": 283
        },
        "id": "aAEuiuk7mOUp",
        "outputId": "130f8807-071c-4db1-bb19-1dda30b96468"
      },
      "source": [
        "e = [[1, 1, 1, 1, 1],\n",
        "[1, 1, 1, 0, 1],\n",
        "[1, 1, 0, 1, 1],\n",
        "[1, 0, 1, 1, 1],\n",
        "[0, 1, 1, 1, 1],\n",
        "[0, 0, 0, 1, 0],\n",
        "[0, 0, 1, 0, 0],\n",
        "[0, 1, 0, 0, 0],\n",
        "[1, 0, 0, 0, 0],\n",
        "[0, 0, 0, 0, 0],\n",
        "[1, 1, 0, 0, 1],\n",
        "[0, 0, 1, 1, 1],\n",
        "[1, 0, 0, 1, 0],\n",
        "[0, 1, 1, 0, 0],\n",
        "[1, 0, 1, 0, 0],\n",
        "[0, 1, 0, 1, 0]]\n",
        "\n",
        "x, y = get_xy(e)\n",
        "\n",
        "w, erros = perceptron(x, y, 0.089, 500)\n",
        "plt.plot(erros)"
      ],
      "execution_count": null,
      "outputs": [
        {
          "output_type": "execute_result",
          "data": {
            "text/plain": [
              "[<matplotlib.lines.Line2D at 0x7fea5d975290>]"
            ]
          },
          "metadata": {},
          "execution_count": 36
        },
        {
          "output_type": "display_data",
          "data": {
            "image/png": "[encoded data removed]",
            "text/plain": [
              "<Figure size 432x288 with 1 Axes>"
            ]
          },
          "metadata": {
            "needs_background": "light"
          }
        }
      ]
    },
    {
      "cell_type": "markdown",
      "metadata": {
        "id": "Aa_9bCMD_mMi"
      },
      "source": [
        "2. Seja o arquivo Titanic.csv em anexo, que contém a lista com os passageiros do RMS Titanic que naufragou em 1912. O arquivo contém os seguintes campos:\n",
        "Classe = {1,2,3} : A classe do passageiro\n",
        "Idade = [0, 100]: A idade do passageiro [contém valores nulos!]\n",
        "Sexo = {0,1}: O sexo do passageiro, onde 0 = Masculino e 1 = Feminino\n",
        "Sobreviveu = {0,1}: Se o passageiro sobreviveu(1) ou não (0).\n",
        "\n",
        "\n",
        "2.a) Implemente o algoritmo de treinamento do ADALINE"
      ]
    },
    {
      "cell_type": "code",
      "metadata": {
        "id": "73PuGNnI_55j"
      },
      "source": [
        "\n",
        "def degrau(x):\n",
        "  return 1 if x > 0 else 0\n",
        "\n",
        "def estimativa(w, wz, X):\n",
        "  return degrau(sum([(w[i] * X[i] + wz) for i in range(len(X))]))\n",
        "\n",
        "\n",
        "def adaline_fit(X, Y, a, numero_de_iteracao):\n",
        "  n = len(X[0]) # número de variaveis\n",
        "  m = len(X) # número de instacia\n",
        "  w = np.random.randn(n) # pesos\n",
        "  wz = np.random.randn(1) # threshold\n",
        "  yt = [0] * m \n",
        "  erro = [0] * m\n",
        "  \n",
        "  for iteracao in range(numero_de_iteracao):\n",
        "    for j in range(m):\n",
        "      yt[j] = estimativa(w, wz, X[j])\n",
        "      erro[j] = Y[j] - yt[j]\n",
        "      w = [w[i] + a * erro[j] * X[j][i] for i in range(n)]\n",
        "      wz = wz + a * erro[j]\n",
        "    \n",
        "  return [wz, w]\n",
        "    "
      ],
      "execution_count": null,
      "outputs": []
    },
    {
      "cell_type": "code",
      "metadata": {
        "id": "gMvryQhv_6fx",
        "colab": {
          "base_uri": "https://localhost:8080/",
          "height": 206
        },
        "outputId": "c2833bc1-acbf-4bf4-81d2-4846735c1021"
      },
      "source": [
        "df = pd.read_csv('/content/Titanic.csv')\n",
        "df.head()"
      ],
      "execution_count": null,
      "outputs": [
        {
          "output_type": "execute_result",
          "data": {
            "text/html": [
              "<div>\n",
              "<style scoped>\n",
              "    .dataframe tbody tr th:only-of-type {\n",
              "        vertical-align: middle;\n",
              "    }\n",
              "\n",
              "    .dataframe tbody tr th {\n",
              "        vertical-align: top;\n",
              "    }\n",
              "\n",
              "    .dataframe thead th {\n",
              "        text-align: right;\n",
              "    }\n",
              "</style>\n",
              "<table border=\"1\" class=\"dataframe\">\n",
              "  <thead>\n",
              "    <tr style=\"text-align: right;\">\n",
              "      <th></th>\n",
              "      <th>Nome</th>\n",
              "      <th>Idade</th>\n",
              "      <th>Sexo</th>\n",
              "      <th>Sobreviveu</th>\n",
              "    </tr>\n",
              "  </thead>\n",
              "  <tbody>\n",
              "    <tr>\n",
              "      <th>0</th>\n",
              "      <td>1.0</td>\n",
              "      <td>29.00</td>\n",
              "      <td>1</td>\n",
              "      <td>1</td>\n",
              "    </tr>\n",
              "    <tr>\n",
              "      <th>1</th>\n",
              "      <td>1.0</td>\n",
              "      <td>2.00</td>\n",
              "      <td>1</td>\n",
              "      <td>0</td>\n",
              "    </tr>\n",
              "    <tr>\n",
              "      <th>2</th>\n",
              "      <td>1.0</td>\n",
              "      <td>30.00</td>\n",
              "      <td>0</td>\n",
              "      <td>0</td>\n",
              "    </tr>\n",
              "    <tr>\n",
              "      <th>3</th>\n",
              "      <td>1.0</td>\n",
              "      <td>25.00</td>\n",
              "      <td>1</td>\n",
              "      <td>0</td>\n",
              "    </tr>\n",
              "    <tr>\n",
              "      <th>4</th>\n",
              "      <td>1.0</td>\n",
              "      <td>0.92</td>\n",
              "      <td>0</td>\n",
              "      <td>1</td>\n",
              "    </tr>\n",
              "  </tbody>\n",
              "</table>\n",
              "</div>"
            ],
            "text/plain": [
              "   Nome  Idade  Sexo  Sobreviveu\n",
              "0   1.0  29.00     1           1\n",
              "1   1.0   2.00     1           0\n",
              "2   1.0  30.00     0           0\n",
              "3   1.0  25.00     1           0\n",
              "4   1.0   0.92     0           1"
            ]
          },
          "metadata": {},
          "execution_count": 39
        }
      ]
    },
    {
      "cell_type": "code",
      "metadata": {
        "id": "8JKH2vIdAyTD"
      },
      "source": [
        "df['Idade'] = df['Idade'].fillna(round(df['Idade'].mean())) # subistituindo idades null com a media das idade\n",
        "df = df.dropna()\n",
        "df_list = df.values.tolist()"
      ],
      "execution_count": null,
      "outputs": []
    },
    {
      "cell_type": "code",
      "metadata": {
        "id": "Tbkc3i1mnJyz"
      },
      "source": [
        "def get_xy_especifico(columns):\n",
        "  return (df[columns].values.tolist(), df['Sobreviveu'].tolist())"
      ],
      "execution_count": null,
      "outputs": []
    },
    {
      "cell_type": "markdown",
      "metadata": {
        "id": "h_qCmHFh_v4g"
      },
      "source": [
        "\n",
        "2.b) Usando o algoritmo implementado, treine um modelo para prever a variável Sobreviveu com base em cada uma das variáveis isoladamente;\n"
      ]
    },
    {
      "cell_type": "code",
      "metadata": {
        "colab": {
          "base_uri": "https://localhost:8080/"
        },
        "id": "J7oIjchtlrfy",
        "outputId": "1617fbba-2dd1-4713-b61d-37d946b7c42d"
      },
      "source": [
        "variaveis = ['Nome', 'Idade', 'Sexo']\n",
        "for i in variaveis:\n",
        "  x, y = get_xy_especifico([i])\n",
        "\n",
        "  w = adaline_fit(x, y, 0.02, 200)\n",
        "  yt = [estimativa(w[1], w[0], x[j]) for j in range(len(x))]\n",
        "  acuracia = accuracy_score(yt, y)  \n",
        "  print(f'para {i} Acurácia: {acuracia:.4f}' )"
      ],
      "execution_count": null,
      "outputs": [
        {
          "output_type": "stream",
          "name": "stdout",
          "text": [
            "para Nome Acurácia: 0.7058\n",
            "para Idade Acurácia: 0.6730\n",
            "para Sexo Acurácia: 0.6570\n"
          ]
        }
      ]
    },
    {
      "cell_type": "markdown",
      "metadata": {
        "id": "ybEgpJqw_yBF"
      },
      "source": [
        "2.c) Usando o algoritmo implementado, treine um modelo para prever a\n",
        "variável Sobreviveu com base em pares das variáveis;\n"
      ]
    },
    {
      "cell_type": "code",
      "metadata": {
        "id": "1zqJHIvb_7W9",
        "colab": {
          "base_uri": "https://localhost:8080/"
        },
        "outputId": "61ea2f0a-965b-4960-db22-852b6b070d6b"
      },
      "source": [
        "for var1 in variaveis:\n",
        "  for var2 in variaveis:\n",
        "    if var1 != var2:\n",
        "      x, y = get_xy_especifico([var1, var2])\n",
        "\n",
        "      w = adaline_fit(x, y, 0.05, 100)\n",
        "      yt = [estimativa(w[1], w[0], x[j]) for j in range(len(x))]\n",
        "      acuracia = accuracy_score(yt, y)  \n",
        "      print(f'para {var1} e {var2} Acurácia: {acuracia:.4f}' )"
      ],
      "execution_count": null,
      "outputs": [
        {
          "output_type": "stream",
          "name": "stdout",
          "text": [
            "para Nome e Idade Acurácia: 0.6936\n",
            "para Nome e Sexo Acurácia: 0.7058\n",
            "para Idade e Nome Acurácia: 0.6890\n",
            "para Idade e Sexo Acurácia: 0.6974\n",
            "para Sexo e Nome Acurácia: 0.7058\n",
            "para Sexo e Idade Acurácia: 0.6753\n"
          ]
        }
      ]
    },
    {
      "cell_type": "markdown",
      "metadata": {
        "id": "UJku2OAQ_2hl"
      },
      "source": [
        "2.d) Usando o algoritmo implementado, treine um modelo para prever a\n",
        "variável Sobreviveu com base em todas as outras variáveis;"
      ]
    },
    {
      "cell_type": "code",
      "metadata": {
        "id": "_0RqXtFE_76n",
        "colab": {
          "base_uri": "https://localhost:8080/"
        },
        "outputId": "ce3bf713-0c4f-40ee-8f0a-e0c71ce84afd"
      },
      "source": [
        "x, y = get_xy_especifico(variaveis)\n",
        "\n",
        "w = adaline_fit(x, y, 0.73, 100)\n",
        "yt = [estimativa(w[1], w[0], x[j]) for j in range(len(x))]\n",
        "acuracia = accuracy_score(yt, y)  \n",
        "print(f'Acurácia: {acuracia:.4f}' )"
      ],
      "execution_count": null,
      "outputs": [
        {
          "output_type": "stream",
          "name": "stdout",
          "text": [
            "Acurácia: 0.7500\n"
          ]
        }
      ]
    }
  ]
}